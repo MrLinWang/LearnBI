{
 "cells": [
  {
   "cell_type": "markdown",
   "metadata": {},
   "source": [
    "# 核心能力提升班商业智能方向 004期 Week 7"
   ]
  },
  {
   "cell_type": "markdown",
   "metadata": {},
   "source": [
    "### Thinking 1: 什么是反向传播中的链式法则"
   ]
  },
  {
   "cell_type": "markdown",
   "metadata": {},
   "source": [
    "模型通过前向传播获得当前输出值，由损失函数可以计算出模型的损失以及损失函数的梯度，通过反向传播中的链式法则在模型中层层反向传递并更新模型参数。"
   ]
  },
  {
   "cell_type": "markdown",
   "metadata": {},
   "source": [
    "### Thinking 2: 请列举几种常见的激活函数，激活函数有什么作用"
   ]
  },
  {
   "cell_type": "code",
   "execution_count": 53,
   "metadata": {},
   "outputs": [],
   "source": [
    "import numpy as np\n",
    "import matplotlib.pyplot as plt\n",
    "# sigmoid函数\n",
    "def sigmoid(x):\n",
    "    s = 1 / (1 + np.exp(-x))\n",
    "    return s\n",
    "# tanh函数\n",
    "def tanh(x):\n",
    "    s = (np.exp(x)-np.exp(-x))/(np.exp(x)+np.exp(-x))\n",
    "    return s\n",
    "# ReLU函数\n",
    "def ReLU(x):\n",
    "    return np.maximum(0, x)\n",
    "def plot_activation_function(activation_function):\n",
    "    # 设置参数x（起点，终点，间距）\n",
    "    x = np.arange(-8, 8, 0.2)\n",
    "    y = activation_function(x)\n",
    "    plt.plot(x, y)\n",
    "    plt.show()"
   ]
  },
  {
   "cell_type": "markdown",
   "metadata": {},
   "source": [
    "#### 常见的激活函数有：\n",
    "* Sigmoid函数：其数学形式如下\n",
    "$$Sigmoid(x)=\\frac{1}{1+e^{-x}}$$\n",
    "其函数图像如下："
   ]
  },
  {
   "cell_type": "code",
   "execution_count": 42,
   "metadata": {},
   "outputs": [
    {
     "data": {
      "image/png": "[encoded data removed]",
      "text/plain": [
       "<Figure size 432x288 with 1 Axes>"
      ]
     },
     "metadata": {
      "needs_background": "light"
     },
     "output_type": "display_data"
    }
   ],
   "source": [
    "plot_activation_function(sigmoid)"
   ]
  },
  {
   "cell_type": "markdown",
   "metadata": {},
   "source": [
    "* tanh函数: 其数学形式如下\n",
    "$$tanh(x)=\\frac{e^{x}-e^{-x}}{e^{x}+e^{-x}}$$\n",
    "其函数图像如下"
   ]
  },
  {
   "cell_type": "code",
   "execution_count": 48,
   "metadata": {},
   "outputs": [
    {
     "data": {
      "image/png": "[encoded data removed]",
      "text/plain": [
       "<Figure size 432x288 with 1 Axes>"
      ]
     },
     "metadata": {
      "needs_background": "light"
     },
     "output_type": "display_data"
    }
   ],
   "source": [
    "plot_activation_function(tanh)"
   ]
  },
  {
   "cell_type": "markdown",
   "metadata": {},
   "source": [
    "* ReLU函数:其数学形式如下\n",
    "$$ReLU(x)=max(0,x)$$\n",
    "其函数图像如下"
   ]
  },
  {
   "cell_type": "code",
   "execution_count": 54,
   "metadata": {},
   "outputs": [
    {
     "data": {
      "image/png": "[encoded data removed]",
      "text/plain": [
       "<Figure size 432x288 with 1 Axes>"
      ]
     },
     "metadata": {
      "needs_background": "light"
     },
     "output_type": "display_data"
    }
   ],
   "source": [
    "plot_activation_function(ReLU)"
   ]
  },
  {
   "cell_type": "markdown",
   "metadata": {},
   "source": [
    "还有一些类似ReLU函数的变体函数:如Leaky ReLU和ELU函数等"
   ]
  },
  {
   "cell_type": "markdown",
   "metadata": {},
   "source": [
    "#### 激活函数的作用\n",
    "激活函数用于在神经网络中引入非线性拟合能力，如果不使用激活函数，无论神经网络有多少层，其输出都是输入的线性组合，不具有非线性拟合能力。"
   ]
  },
  {
   "cell_type": "markdown",
   "metadata": {},
   "source": [
    "### Thinking 3: 利用梯度下降法训练神经网络，发现模型loss不变，可能有哪些问题？怎么解决？"
   ]
  },
  {
   "cell_type": "markdown",
   "metadata": {},
   "source": [
    "训练过程中Loss不变或几乎不变，可能是以下原因：\n",
    "1. 学习率过低：适当调高学习率\n",
    "2. 学习率过大，因为越过极值点儿无法收敛：适当调低学习率\n",
    "2. 数据中有异常值影响模型学习：在数据预处理阶段处理好异常值\n",
    "3. 模型参数没有更新：检查代码编写问题"
   ]
  },
  {
   "cell_type": "markdown",
   "metadata": {},
   "source": [
    "### Action 1: 使用Pytorch编写神经网络，完成boston房价预测问题\n",
    "1）数据加载：from sklearn.datasets import load_boston  \n",
    "2）网络结构：  \n",
    "l1 = Linear(X, W1, b1)  \n",
    "s1 = Relu(l1)  \n",
    "l2 = Linear(s1, W2, b2)  \n",
    "cost = MSE(y, l2)  \n",
    "隐藏层维度为10  "
   ]
  },
  {
   "cell_type": "markdown",
   "metadata": {},
   "source": [
    "#### numpy实现"
   ]
  },
  {
   "cell_type": "code",
   "execution_count": 1,
   "metadata": {},
   "outputs": [],
   "source": [
    "from sklearn.datasets import load_boston"
   ]
  },
  {
   "cell_type": "code",
   "execution_count": 2,
   "metadata": {},
   "outputs": [],
   "source": [
    "import numpy as np\n",
    "import matplotlib.pyplot as plt\n",
    "import numpy as np"
   ]
  },
  {
   "cell_type": "code",
   "execution_count": 3,
   "metadata": {},
   "outputs": [],
   "source": [
    "# 数据加载\n",
    "data = load_boston()\n",
    "X_ = data['data']\n",
    "y = data['target']\n",
    "y = y.reshape(y.shape[0],1)"
   ]
  },
  {
   "cell_type": "code",
   "execution_count": 4,
   "metadata": {},
   "outputs": [],
   "source": [
    "# 数据规范化\n",
    "X_ = (X_ - np.mean(X_, axis=0)) / np.std(X_, axis=0)"
   ]
  },
  {
   "cell_type": "code",
   "execution_count": 5,
   "metadata": {},
   "outputs": [],
   "source": [
    "# 设置随机种子\n",
    "np.random.seed(33)"
   ]
  },
  {
   "cell_type": "code",
   "execution_count": 6,
   "metadata": {},
   "outputs": [],
   "source": [
    "# 设置超参数\n",
    "n_features = X_.shape[1] # 特征维度\n",
    "n_hidden = 16 # 隐藏层节点数\n",
    "learning_rate = 1e-5 # 学习率\n",
    "# 参数初始化\n",
    "w1 = np.random.randn(n_features, n_hidden) # 第一层隐藏层权重\n",
    "b1 = np.zeros(n_hidden) # 第二层隐藏层偏重\n",
    "w2 = np.random.randn(n_hidden, 1) # 第二层隐藏层权重=\n",
    "b2 = np.zeros(1) # 第二层隐藏层偏置"
   ]
  },
  {
   "cell_type": "code",
   "execution_count": 7,
   "metadata": {},
   "outputs": [],
   "source": [
    "# relu函数\n",
    "def Relu(x):\n",
    "    result = np.where(x<0,0,x)\n",
    "    return result"
   ]
  },
  {
   "cell_type": "code",
   "execution_count": 8,
   "metadata": {},
   "outputs": [],
   "source": [
    "# 损失函数MSE\n",
    "def MSE_loss(y, y_hat):\n",
    "    return np.mean(np.square(y_hat - y))"
   ]
  },
  {
   "cell_type": "code",
   "execution_count": 9,
   "metadata": {},
   "outputs": [],
   "source": [
    "# 定义全连接层\n",
    "def Linear(X, W1, b1):\n",
    "    result = X.dot(W1) + b1\n",
    "    return result"
   ]
  },
  {
   "cell_type": "code",
   "execution_count": 10,
   "metadata": {},
   "outputs": [
    {
     "name": "stdout",
     "output_type": "stream",
     "text": [
      "0 297.03368368729946\n",
      "100 17.71784495033687\n",
      "200 14.036236042813673\n"
     ]
    }
   ],
   "source": [
    "max_epoch = 300\n",
    "iter_loss = []\n",
    "for t in range(max_epoch):\n",
    "    # 前向传播，计算预测值y\n",
    "    l1 = Linear(X_, w1, b1)\n",
    "    s1 = Relu(l1)\n",
    "    #s1 = np.maximum(l1, 0)\n",
    "    #print('s1=', s1.shape) #(506, 10)\n",
    "    #print('w2=', w2.shape) #(506, 10)\n",
    "    #print('s1.T=', s1.T.shape) #(10, 506)\n",
    "    y_pred = Linear(s1, w2, b2)\n",
    "    #y_pred = l2 = s1.dot(w2) + b2\n",
    "    #print('y_pred=', y_pred.shape) #(506, 1)\n",
    "    #print('y=', y.shape) #(506, 1)\n",
    "\n",
    "\n",
    "    #temp = X.dot(w1)\n",
    "    #temp_relu = np.maximum(temp, 0)\n",
    "    #y_pred = temp_relu.dot(w2)\n",
    "\n",
    "    # 计算损失函数\n",
    "    loss = MSE_loss(y, y_pred)\n",
    "    #print(y_pred)\n",
    "    #print(y_pred.shape)\n",
    "    if t%100 == 0:\n",
    "        print(t, loss)\n",
    "    iter_loss.append(loss)\n",
    "    # 反向传播，基于loss 计算w1和w2的梯度\n",
    "    grad_y_pred = 2.0 * (y_pred - y)\n",
    "    grad_w2 = s1.T.dot(grad_y_pred) #(10, 506) * (506, 506)\n",
    "    #print('grad_w2=', grad_w2.shape) #(10, 506)\n",
    "    #print('grad_y_pred=', grad_y_pred.shape) #(506, 506)\n",
    "    #print('w2.T=', w2.T.shape) #(1, 10)\n",
    "    grad_temp_relu = grad_y_pred.dot(w2.T) #(506, 506),  (1, 10)\n",
    "    #grad_temp = grad_temp_relu.copy()\n",
    "    grad_temp_relu[l1<0] = 0\n",
    "    grad_w1 = X_.T.dot(grad_temp_relu)\n",
    "\n",
    "    # 更新权重\n",
    "    w1 -= learning_rate * grad_w1\n",
    "    w2 -= learning_rate * grad_w2"
   ]
  },
  {
   "cell_type": "code",
   "execution_count": 11,
   "metadata": {},
   "outputs": [
    {
     "data": {
      "image/png": "[encoded data removed]",
      "text/plain": [
       "<Figure size 432x288 with 1 Axes>"
      ]
     },
     "metadata": {
      "needs_background": "light"
     },
     "output_type": "display_data"
    }
   ],
   "source": [
    "# 绘制不同iteration的loss\n",
    "x = np.arange(max_epoch)\n",
    "y = np.array(iter_loss)\n",
    "plt.plot(x, y)\n",
    "plt.title(\"Loss Value in all iterations\")\n",
    "plt.xlabel(\"Iteration\")\n",
    "plt.ylabel(\"Mean Loss Value\")\n",
    "plt.show()"
   ]
  },
  {
   "cell_type": "markdown",
   "metadata": {},
   "source": [
    "#### Torch实现"
   ]
  },
  {
   "cell_type": "code",
   "execution_count": 12,
   "metadata": {},
   "outputs": [],
   "source": [
    "import torch\n",
    "from torch import nn\n",
    "from sklearn.datasets import load_boston\n",
    "from sklearn.preprocessing import MinMaxScaler\n",
    "from sklearn.model_selection import train_test_split"
   ]
  },
  {
   "cell_type": "code",
   "execution_count": 13,
   "metadata": {},
   "outputs": [],
   "source": [
    "# 数据加载\n",
    "data = load_boston()\n",
    "X = data['data']\n",
    "y = data['target']\n",
    "y = y.reshape(-1,1)"
   ]
  },
  {
   "cell_type": "code",
   "execution_count": 14,
   "metadata": {},
   "outputs": [],
   "source": [
    "# 数据规范化\n",
    "ss = MinMaxScaler()\n",
    "X = ss.fit_transform(X)"
   ]
  },
  {
   "cell_type": "code",
   "execution_count": 15,
   "metadata": {},
   "outputs": [],
   "source": [
    "# 数据集切分\n",
    "#X = torch.from_numpy(X).type(torch.FloatTensor)\n",
    "#y = torch.from_numpy(y).type(torch.FloatTensor)\n",
    "train_x, test_x, train_y, test_y = train_test_split(X, y, test_size=0.2)\n",
    "train_x = torch.from_numpy(train_x).type(torch.FloatTensor)\n",
    "test_x = torch.from_numpy(test_x).type(torch.FloatTensor)\n",
    "train_y = torch.from_numpy(train_y).type(torch.FloatTensor)\n",
    "test_y = torch.from_numpy(test_y).type(torch.FloatTensor)"
   ]
  },
  {
   "cell_type": "code",
   "execution_count": 16,
   "metadata": {},
   "outputs": [
    {
     "data": {
      "text/plain": [
       "Sequential(\n",
       "  (0): Linear(in_features=13, out_features=16, bias=True)\n",
       "  (1): ReLU()\n",
       "  (2): Linear(in_features=16, out_features=1, bias=True)\n",
       ")"
      ]
     },
     "execution_count": 16,
     "metadata": {},
     "output_type": "execute_result"
    }
   ],
   "source": [
    "# 定义模型\n",
    "model = nn.Sequential(\n",
    "    nn.Linear(13, 16),\n",
    "    nn.ReLU(),\n",
    "    nn.Linear(16,1)\n",
    ")\n",
    "model.train()"
   ]
  },
  {
   "cell_type": "code",
   "execution_count": 17,
   "metadata": {},
   "outputs": [],
   "source": [
    "# 定义优化器和损失函数\n",
    "criterion = nn.MSELoss()\n",
    "optimizer = torch.optim.Adam(model.parameters(), lr=0.005)"
   ]
  },
  {
   "cell_type": "code",
   "execution_count": 18,
   "metadata": {},
   "outputs": [
    {
     "name": "stdout",
     "output_type": "stream",
     "text": [
      "0 603.3572387695312\n",
      "50 423.98236083984375\n",
      "100 155.35350036621094\n",
      "150 112.21162414550781\n",
      "200 88.42393493652344\n",
      "250 70.98167419433594\n"
     ]
    }
   ],
   "source": [
    "max_epoch = 300\n",
    "iter_loss = []\n",
    "# 训练\n",
    "for i in range(max_epoch):\n",
    "    # 前向传播\n",
    "    y_pred = model(train_x)\n",
    "    # 计算Loss\n",
    "    loss = criterion(y_pred, train_y)\n",
    "    if i%50 == 0:\n",
    "        print(i, loss.item())\n",
    "    iter_loss.append(loss.item())\n",
    "    # 梯度清空\n",
    "    optimizer.zero_grad()\n",
    "    # 反向传播\n",
    "    loss.backward()\n",
    "    # 权重调整\n",
    "    optimizer.step()"
   ]
  },
  {
   "cell_type": "code",
   "execution_count": 19,
   "metadata": {},
   "outputs": [],
   "source": [
    "# 测试\n",
    "output = model(test_x)\n",
    "predict_list = output.detach().numpy()"
   ]
  },
  {
   "cell_type": "code",
   "execution_count": 20,
   "metadata": {},
   "outputs": [
    {
     "data": {
      "image/png": "[encoded data removed]",
      "text/plain": [
       "<Figure size 432x288 with 1 Axes>"
      ]
     },
     "metadata": {
      "needs_background": "light"
     },
     "output_type": "display_data"
    }
   ],
   "source": [
    "# 绘制不同iteration的loss\n",
    "x = np.arange(max_epoch)\n",
    "y = np.array(iter_loss)\n",
    "plt.plot(x, y)\n",
    "plt.title(\"Loss Value in all iterations\")\n",
    "plt.xlabel(\"Iteration\")\n",
    "plt.ylabel(\"Mean Loss Value\")\n",
    "plt.show()"
   ]
  },
  {
   "cell_type": "code",
   "execution_count": 21,
   "metadata": {},
   "outputs": [
    {
     "data": {
      "image/png": "[encoded data removed]",
      "text/plain": [
       "<Figure size 432x288 with 1 Axes>"
      ]
     },
     "metadata": {
      "needs_background": "light"
     },
     "output_type": "display_data"
    }
   ],
   "source": [
    "# 查看真实值与预测值的散点图\n",
    "x = np.arange(test_x.shape[0])\n",
    "y1 = np.array(predict_list) # 预测值\n",
    "y2 = np.array(test_y) # 真实值\n",
    "line1 = plt.scatter(x, y1, c='red', label='predict')\n",
    "line2 = plt.scatter(x, y2, c='yellow', label='real')\n",
    "plt.legend()\n",
    "plt.title('Prediction vs Real')\n",
    "plt.ylabel('Boston House Price')\n",
    "plt.show()"
   ]
  },
  {
   "cell_type": "markdown",
   "metadata": {},
   "source": [
    "### Action 2: 对移动推荐系统进行可视化数据探索\n",
    "数据集https://tianchi.aliyun.com/competition/entrance/231522/information  \n",
    "tianchi_fresh_comp_train_item.csv  \n",
    "tianchi_fresh_comp_train_user.csv  \n",
    "比如时间规律统计，4种行为类别的对比…  "
   ]
  },
  {
   "cell_type": "code",
   "execution_count": 22,
   "metadata": {},
   "outputs": [],
   "source": [
    "# 引包\n",
    "import pandas as pd"
   ]
  },
  {
   "cell_type": "code",
   "execution_count": 23,
   "metadata": {},
   "outputs": [],
   "source": [
    "item_data_csv = 'data/fresh_comp_offline/tianchi_fresh_comp_train_item.csv'\n",
    "user_data_csv = 'data/fresh_comp_offline/tianchi_fresh_comp_train_user.csv'"
   ]
  },
  {
   "cell_type": "code",
   "execution_count": 24,
   "metadata": {},
   "outputs": [],
   "source": [
    "# # 生成小样本数据集(随机采样源数据集10%数据)\n",
    "# train_item_sample = pd.read_csv(item_data_csv).sample(frac=0.1, random_state=6)\n",
    "# train_user_sample = pd.read_csv(user_data_csv).sample(frac=0.1, random_state=6)\n",
    "# train_item_sample.to_csv('data/train_item_sample.csv', index=0)\n",
    "# train_user_sample.to_csv('data/train_user_sample.csv', index=0)"
   ]
  },
  {
   "cell_type": "code",
   "execution_count": 25,
   "metadata": {},
   "outputs": [],
   "source": [
    "# 分块读取大数据集\n",
    "def bigdata_to_chunks(bigdata_fname, target_path, chunk_fname):\n",
    "    i=0\n",
    "    for df in pd.read_csv(bigdata_fname, chunksize=100000):\n",
    "        df.to_csv(target_path+'/%3d_' % (i) +chunk_fname, index=0)\n",
    "        i+=1"
   ]
  },
  {
   "cell_type": "code",
   "execution_count": 26,
   "metadata": {},
   "outputs": [],
   "source": [
    "# bigdata_to_chunks(user_data_csv, 'data/fresh_comp_offline/chunks', 'user_data.csv')"
   ]
  },
  {
   "cell_type": "code",
   "execution_count": 27,
   "metadata": {},
   "outputs": [],
   "source": [
    "# item_data_csv = 'data/train_item_sample.csv'\n",
    "# user_data_csv = 'data/train_user_sample.csv'"
   ]
  },
  {
   "cell_type": "code",
   "execution_count": 28,
   "metadata": {},
   "outputs": [
    {
     "data": {
      "text/html": [
       "<div>\n",
       "<style scoped>\n",
       "    .dataframe tbody tr th:only-of-type {\n",
       "        vertical-align: middle;\n",
       "    }\n",
       "\n",
       "    .dataframe tbody tr th {\n",
       "        vertical-align: top;\n",
       "    }\n",
       "\n",
       "    .dataframe thead th {\n",
       "        text-align: right;\n",
       "    }\n",
       "</style>\n",
       "<table border=\"1\" class=\"dataframe\">\n",
       "  <thead>\n",
       "    <tr style=\"text-align: right;\">\n",
       "      <th></th>\n",
       "      <th>user_id</th>\n",
       "      <th>item_id</th>\n",
       "      <th>behavior_type</th>\n",
       "      <th>user_geohash</th>\n",
       "      <th>item_category</th>\n",
       "      <th>time</th>\n",
       "    </tr>\n",
       "  </thead>\n",
       "  <tbody>\n",
       "    <tr>\n",
       "      <th>0</th>\n",
       "      <td>10001082</td>\n",
       "      <td>285259775</td>\n",
       "      <td>1</td>\n",
       "      <td>97lk14c</td>\n",
       "      <td>4076</td>\n",
       "      <td>2014-12-08 18</td>\n",
       "    </tr>\n",
       "    <tr>\n",
       "      <th>1</th>\n",
       "      <td>10001082</td>\n",
       "      <td>4368907</td>\n",
       "      <td>1</td>\n",
       "      <td>NaN</td>\n",
       "      <td>5503</td>\n",
       "      <td>2014-12-12 12</td>\n",
       "    </tr>\n",
       "    <tr>\n",
       "      <th>2</th>\n",
       "      <td>10001082</td>\n",
       "      <td>4368907</td>\n",
       "      <td>1</td>\n",
       "      <td>NaN</td>\n",
       "      <td>5503</td>\n",
       "      <td>2014-12-12 12</td>\n",
       "    </tr>\n",
       "    <tr>\n",
       "      <th>3</th>\n",
       "      <td>10001082</td>\n",
       "      <td>53616768</td>\n",
       "      <td>1</td>\n",
       "      <td>NaN</td>\n",
       "      <td>9762</td>\n",
       "      <td>2014-12-02 15</td>\n",
       "    </tr>\n",
       "    <tr>\n",
       "      <th>4</th>\n",
       "      <td>10001082</td>\n",
       "      <td>151466952</td>\n",
       "      <td>1</td>\n",
       "      <td>NaN</td>\n",
       "      <td>5232</td>\n",
       "      <td>2014-12-12 11</td>\n",
       "    </tr>\n",
       "  </tbody>\n",
       "</table>\n",
       "</div>"
      ],
      "text/plain": [
       "    user_id    item_id  behavior_type user_geohash  item_category  \\\n",
       "0  10001082  285259775              1      97lk14c           4076   \n",
       "1  10001082    4368907              1          NaN           5503   \n",
       "2  10001082    4368907              1          NaN           5503   \n",
       "3  10001082   53616768              1          NaN           9762   \n",
       "4  10001082  151466952              1          NaN           5232   \n",
       "\n",
       "            time  \n",
       "0  2014-12-08 18  \n",
       "1  2014-12-12 12  \n",
       "2  2014-12-12 12  \n",
       "3  2014-12-02 15  \n",
       "4  2014-12-12 11  "
      ]
     },
     "execution_count": 28,
     "metadata": {},
     "output_type": "execute_result"
    }
   ],
   "source": [
    "# 数据加载\n",
    "train_user = pd.read_csv(user_data_csv)\n",
    "train_user.head()"
   ]
  },
  {
   "cell_type": "code",
   "execution_count": 29,
   "metadata": {},
   "outputs": [
    {
     "name": "stdout",
     "output_type": "stream",
     "text": [
      "CVR = 1.00%\n"
     ]
    }
   ],
   "source": [
    "# 计算CVR\n",
    "count_all, count_4 = 0, 0\n",
    "count_user = train_user['behavior_type'].value_counts()\n",
    "count_all = count_user[1] + count_user[2] + count_user[3] + count_user[4]\n",
    "count_4 += count_user[4]\n",
    "\n",
    "cvr = count_4 / count_all\n",
    "print('CVR = %.2f%%'%(cvr*100))"
   ]
  },
  {
   "cell_type": "code",
   "execution_count": 30,
   "metadata": {},
   "outputs": [
    {
     "data": {
      "text/html": [
       "<div>\n",
       "<style scoped>\n",
       "    .dataframe tbody tr th:only-of-type {\n",
       "        vertical-align: middle;\n",
       "    }\n",
       "\n",
       "    .dataframe tbody tr th {\n",
       "        vertical-align: top;\n",
       "    }\n",
       "\n",
       "    .dataframe thead th {\n",
       "        text-align: right;\n",
       "    }\n",
       "</style>\n",
       "<table border=\"1\" class=\"dataframe\">\n",
       "  <thead>\n",
       "    <tr style=\"text-align: right;\">\n",
       "      <th></th>\n",
       "      <th>user_id</th>\n",
       "      <th>item_id</th>\n",
       "      <th>behavior_type</th>\n",
       "      <th>user_geohash</th>\n",
       "      <th>item_category</th>\n",
       "      <th>time</th>\n",
       "    </tr>\n",
       "    <tr>\n",
       "      <th>time</th>\n",
       "      <th></th>\n",
       "      <th></th>\n",
       "      <th></th>\n",
       "      <th></th>\n",
       "      <th></th>\n",
       "      <th></th>\n",
       "    </tr>\n",
       "  </thead>\n",
       "  <tbody>\n",
       "    <tr>\n",
       "      <th>2014-12-08 18:00:00</th>\n",
       "      <td>10001082</td>\n",
       "      <td>285259775</td>\n",
       "      <td>1</td>\n",
       "      <td>97lk14c</td>\n",
       "      <td>4076</td>\n",
       "      <td>2014-12-08 18:00:00</td>\n",
       "    </tr>\n",
       "    <tr>\n",
       "      <th>2014-12-12 12:00:00</th>\n",
       "      <td>10001082</td>\n",
       "      <td>4368907</td>\n",
       "      <td>1</td>\n",
       "      <td>NaN</td>\n",
       "      <td>5503</td>\n",
       "      <td>2014-12-12 12:00:00</td>\n",
       "    </tr>\n",
       "    <tr>\n",
       "      <th>2014-12-12 12:00:00</th>\n",
       "      <td>10001082</td>\n",
       "      <td>4368907</td>\n",
       "      <td>1</td>\n",
       "      <td>NaN</td>\n",
       "      <td>5503</td>\n",
       "      <td>2014-12-12 12:00:00</td>\n",
       "    </tr>\n",
       "    <tr>\n",
       "      <th>2014-12-02 15:00:00</th>\n",
       "      <td>10001082</td>\n",
       "      <td>53616768</td>\n",
       "      <td>1</td>\n",
       "      <td>NaN</td>\n",
       "      <td>9762</td>\n",
       "      <td>2014-12-02 15:00:00</td>\n",
       "    </tr>\n",
       "    <tr>\n",
       "      <th>2014-12-12 11:00:00</th>\n",
       "      <td>10001082</td>\n",
       "      <td>151466952</td>\n",
       "      <td>1</td>\n",
       "      <td>NaN</td>\n",
       "      <td>5232</td>\n",
       "      <td>2014-12-12 11:00:00</td>\n",
       "    </tr>\n",
       "  </tbody>\n",
       "</table>\n",
       "</div>"
      ],
      "text/plain": [
       "                      user_id    item_id  behavior_type user_geohash  \\\n",
       "time                                                                   \n",
       "2014-12-08 18:00:00  10001082  285259775              1      97lk14c   \n",
       "2014-12-12 12:00:00  10001082    4368907              1          NaN   \n",
       "2014-12-12 12:00:00  10001082    4368907              1          NaN   \n",
       "2014-12-02 15:00:00  10001082   53616768              1          NaN   \n",
       "2014-12-12 11:00:00  10001082  151466952              1          NaN   \n",
       "\n",
       "                     item_category                time  \n",
       "time                                                    \n",
       "2014-12-08 18:00:00           4076 2014-12-08 18:00:00  \n",
       "2014-12-12 12:00:00           5503 2014-12-12 12:00:00  \n",
       "2014-12-12 12:00:00           5503 2014-12-12 12:00:00  \n",
       "2014-12-02 15:00:00           9762 2014-12-02 15:00:00  \n",
       "2014-12-12 11:00:00           5232 2014-12-12 11:00:00  "
      ]
     },
     "execution_count": 30,
     "metadata": {},
     "output_type": "execute_result"
    }
   ],
   "source": [
    "# 将time字段设置为pandas中的datetime类型\n",
    "train_user['time'] = pd.to_datetime(train_user['time'])\n",
    "train_user.index = train_user['time']\n",
    "train_user.head()"
   ]
  },
  {
   "cell_type": "code",
   "execution_count": 31,
   "metadata": {},
   "outputs": [],
   "source": [
    "from collections import defaultdict\n",
    "from datetime import datetime, timedelta\n",
    "import matplotlib.pyplot as plt"
   ]
  },
  {
   "cell_type": "code",
   "execution_count": 32,
   "metadata": {},
   "outputs": [],
   "source": [
    "# 时间规律统计\n",
    "def show_count_day(df):\n",
    "    count_day = defaultdict(int)\n",
    "    # 从2014-11-18遍历到2014-12-18\n",
    "    str1 = '2014-11-17'\n",
    "    temp_date = datetime.strptime(str1, '%Y-%m-%d')\n",
    "    delta = timedelta(days=1)\n",
    "    for i in range(31):\n",
    "        temp_date = temp_date + delta\n",
    "        # 将时间转化为字符串类型\n",
    "        temp_str = temp_date.strftime('%Y-%m-%d')\n",
    "        # train_user 的index为时间\n",
    "        count_day[temp_str] += df[temp_str].shape[0]\n",
    "    df_count_day = pd.DataFrame.from_dict(count_day, orient='index', columns=['count'])\n",
    "    df_count_day['count'].plot(kind='bar')\n",
    "    plt.legend(loc='best')\n",
    "    plt.grid(True)\n",
    "    plt.show()"
   ]
  },
  {
   "cell_type": "code",
   "execution_count": 33,
   "metadata": {},
   "outputs": [
    {
     "data": {
      "image/png": "[encoded data removed]",
      "text/plain": [
       "<Figure size 432x288 with 1 Axes>"
      ]
     },
     "metadata": {
      "needs_background": "light"
     },
     "output_type": "display_data"
    }
   ],
   "source": [
    "show_count_day(train_user)"
   ]
  },
  {
   "cell_type": "code",
   "execution_count": 34,
   "metadata": {},
   "outputs": [
    {
     "data": {
      "text/html": [
       "<div>\n",
       "<style scoped>\n",
       "    .dataframe tbody tr th:only-of-type {\n",
       "        vertical-align: middle;\n",
       "    }\n",
       "\n",
       "    .dataframe tbody tr th {\n",
       "        vertical-align: top;\n",
       "    }\n",
       "\n",
       "    .dataframe thead th {\n",
       "        text-align: right;\n",
       "    }\n",
       "</style>\n",
       "<table border=\"1\" class=\"dataframe\">\n",
       "  <thead>\n",
       "    <tr style=\"text-align: right;\">\n",
       "      <th></th>\n",
       "      <th>item_id</th>\n",
       "      <th>item_geohash</th>\n",
       "      <th>item_category</th>\n",
       "    </tr>\n",
       "  </thead>\n",
       "  <tbody>\n",
       "    <tr>\n",
       "      <th>0</th>\n",
       "      <td>100002303</td>\n",
       "      <td>NaN</td>\n",
       "      <td>3368</td>\n",
       "    </tr>\n",
       "    <tr>\n",
       "      <th>1</th>\n",
       "      <td>100003592</td>\n",
       "      <td>NaN</td>\n",
       "      <td>7995</td>\n",
       "    </tr>\n",
       "    <tr>\n",
       "      <th>2</th>\n",
       "      <td>100006838</td>\n",
       "      <td>NaN</td>\n",
       "      <td>12630</td>\n",
       "    </tr>\n",
       "    <tr>\n",
       "      <th>3</th>\n",
       "      <td>100008089</td>\n",
       "      <td>NaN</td>\n",
       "      <td>7791</td>\n",
       "    </tr>\n",
       "    <tr>\n",
       "      <th>4</th>\n",
       "      <td>100012750</td>\n",
       "      <td>NaN</td>\n",
       "      <td>9614</td>\n",
       "    </tr>\n",
       "  </tbody>\n",
       "</table>\n",
       "</div>"
      ],
      "text/plain": [
       "     item_id item_geohash  item_category\n",
       "0  100002303          NaN           3368\n",
       "1  100003592          NaN           7995\n",
       "2  100006838          NaN          12630\n",
       "3  100008089          NaN           7791\n",
       "4  100012750          NaN           9614"
      ]
     },
     "execution_count": 34,
     "metadata": {},
     "output_type": "execute_result"
    }
   ],
   "source": [
    "# 属于商品子集的操作次数\n",
    "train_item = pd.read_csv(item_data_csv)\n",
    "train_item.head()"
   ]
  },
  {
   "cell_type": "code",
   "execution_count": 35,
   "metadata": {},
   "outputs": [
    {
     "data": {
      "text/html": [
       "<div>\n",
       "<style scoped>\n",
       "    .dataframe tbody tr th:only-of-type {\n",
       "        vertical-align: middle;\n",
       "    }\n",
       "\n",
       "    .dataframe tbody tr th {\n",
       "        vertical-align: top;\n",
       "    }\n",
       "\n",
       "    .dataframe thead th {\n",
       "        text-align: right;\n",
       "    }\n",
       "</style>\n",
       "<table border=\"1\" class=\"dataframe\">\n",
       "  <thead>\n",
       "    <tr style=\"text-align: right;\">\n",
       "      <th></th>\n",
       "      <th>user_id</th>\n",
       "      <th>item_id</th>\n",
       "      <th>behavior_type</th>\n",
       "      <th>user_geohash</th>\n",
       "      <th>item_category</th>\n",
       "      <th>item_geohash</th>\n",
       "    </tr>\n",
       "    <tr>\n",
       "      <th>time</th>\n",
       "      <th></th>\n",
       "      <th></th>\n",
       "      <th></th>\n",
       "      <th></th>\n",
       "      <th></th>\n",
       "      <th></th>\n",
       "    </tr>\n",
       "  </thead>\n",
       "  <tbody>\n",
       "    <tr>\n",
       "      <th>2014-12-03 01:00:00</th>\n",
       "      <td>10001082</td>\n",
       "      <td>275221686</td>\n",
       "      <td>1</td>\n",
       "      <td>NaN</td>\n",
       "      <td>10576</td>\n",
       "      <td>NaN</td>\n",
       "    </tr>\n",
       "    <tr>\n",
       "      <th>2014-12-13 14:00:00</th>\n",
       "      <td>10001082</td>\n",
       "      <td>275221686</td>\n",
       "      <td>1</td>\n",
       "      <td>NaN</td>\n",
       "      <td>10576</td>\n",
       "      <td>NaN</td>\n",
       "    </tr>\n",
       "    <tr>\n",
       "      <th>2014-12-08 07:00:00</th>\n",
       "      <td>10001082</td>\n",
       "      <td>275221686</td>\n",
       "      <td>1</td>\n",
       "      <td>NaN</td>\n",
       "      <td>10576</td>\n",
       "      <td>NaN</td>\n",
       "    </tr>\n",
       "    <tr>\n",
       "      <th>2014-12-08 07:00:00</th>\n",
       "      <td>10001082</td>\n",
       "      <td>275221686</td>\n",
       "      <td>1</td>\n",
       "      <td>NaN</td>\n",
       "      <td>10576</td>\n",
       "      <td>NaN</td>\n",
       "    </tr>\n",
       "    <tr>\n",
       "      <th>2014-12-08 00:00:00</th>\n",
       "      <td>10001082</td>\n",
       "      <td>275221686</td>\n",
       "      <td>1</td>\n",
       "      <td>NaN</td>\n",
       "      <td>10576</td>\n",
       "      <td>NaN</td>\n",
       "    </tr>\n",
       "  </tbody>\n",
       "</table>\n",
       "</div>"
      ],
      "text/plain": [
       "                      user_id    item_id  behavior_type user_geohash  \\\n",
       "time                                                                   \n",
       "2014-12-03 01:00:00  10001082  275221686              1          NaN   \n",
       "2014-12-13 14:00:00  10001082  275221686              1          NaN   \n",
       "2014-12-08 07:00:00  10001082  275221686              1          NaN   \n",
       "2014-12-08 07:00:00  10001082  275221686              1          NaN   \n",
       "2014-12-08 00:00:00  10001082  275221686              1          NaN   \n",
       "\n",
       "                     item_category item_geohash  \n",
       "time                                             \n",
       "2014-12-03 01:00:00          10576          NaN  \n",
       "2014-12-13 14:00:00          10576          NaN  \n",
       "2014-12-08 07:00:00          10576          NaN  \n",
       "2014-12-08 07:00:00          10576          NaN  \n",
       "2014-12-08 00:00:00          10576          NaN  "
      ]
     },
     "execution_count": 35,
     "metadata": {},
     "output_type": "execute_result"
    }
   ],
   "source": [
    "# 使用reset_index将index还原\n",
    "train_data = pd.merge(train_user, train_item, on=['item_id','item_category']).set_index('time')\n",
    "train_data.head()"
   ]
  },
  {
   "cell_type": "code",
   "execution_count": 36,
   "metadata": {},
   "outputs": [
    {
     "data": {
      "image/png": "[encoded data removed]",
      "text/plain": [
       "<Figure size 432x288 with 1 Axes>"
      ]
     },
     "metadata": {
      "needs_background": "light"
     },
     "output_type": "display_data"
    }
   ],
   "source": [
    "show_count_day(train_data)"
   ]
  },
  {
   "cell_type": "code",
   "execution_count": 37,
   "metadata": {},
   "outputs": [],
   "source": [
    "def show_count_hour(df, date1):\n",
    "    count_hour = {}\n",
    "    # 设置初始值\n",
    "    for i in range(24):\n",
    "        time_str = date1 + \" %02.d\" % i\n",
    "        count_hour[time_str] = [0, 0, 0, 0]\n",
    "        temp = df[time_str]['behavior_type'].value_counts()\n",
    "        for j in range(len(temp)):\n",
    "            count_hour[time_str][temp.index[j]-1] += temp[temp.index[j]]\n",
    "    # 从字典类型生成DataFrame\n",
    "    df_count_hour = pd.DataFrame.from_dict(count_hour, orient='index')\n",
    "    df_count_hour.plot(kind='bar')\n",
    "    plt.legend(loc='best')\n",
    "    plt.grid(True)\n",
    "    plt.show()"
   ]
  },
  {
   "cell_type": "code",
   "execution_count": 38,
   "metadata": {},
   "outputs": [
    {
     "data": {
      "image/png": "[encoded data removed]",
      "text/plain": [
       "<Figure size 432x288 with 1 Axes>"
      ]
     },
     "metadata": {
      "needs_background": "light"
     },
     "output_type": "display_data"
    }
   ],
   "source": [
    "show_count_hour(train_data, '2014-12-12')"
   ]
  },
  {
   "cell_type": "code",
   "execution_count": null,
   "metadata": {},
   "outputs": [],
   "source": []
  }
 ],
 "metadata": {
  "kernelspec": {
   "display_name": "learnBI",
   "language": "python",
   "name": "learnbi"
  },
  "language_info": {
   "codemirror_mode": {
    "name": "ipython",
    "version": 3
   },
   "file_extension": ".py",
   "mimetype": "text/x-python",
   "name": "python",
   "nbconvert_exporter": "python",
   "pygments_lexer": "ipython3",
   "version": "3.6.7"
  }
 },
 "nbformat": 4,
 "nbformat_minor": 4
}
